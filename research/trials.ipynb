{
 "cells": [
  {
   "cell_type": "code",
   "execution_count": 2,
   "metadata": {},
   "outputs": [],
   "source": [
    "import os"
   ]
  },
  {
   "cell_type": "code",
   "execution_count": 33,
   "metadata": {},
   "outputs": [],
   "source": [
    "from git import Repo\n",
    "from langchain.text_splitter import Language\n",
    "from langchain.document_loaders.generic import GenericLoader\n",
    "from langchain.document_loaders.parsers import LanguageParser\n",
    "from langchain.text_splitter import RecursiveCharacterTextSplitter\n",
    "from langchain.embeddings.openai import OpenAIEmbeddings\n",
    "from langchain.vectorstores import Chroma\n",
    "from langchain.chat_models import ChatOpenAI\n",
    "from langchain.memory import ConversationSummaryMemory\n",
    "from langchain.chains import ConversationalRetrievalChain"
   ]
  },
  {
   "cell_type": "markdown",
   "metadata": {},
   "source": [
    "Clone github repo"
   ]
  },
  {
   "cell_type": "code",
   "execution_count": 2,
   "metadata": {},
   "outputs": [],
   "source": [
    "import requests\n",
    "from langchain.document_loaders import TextLoader\n"
   ]
  },
  {
   "cell_type": "code",
   "execution_count": 34,
   "metadata": {},
   "outputs": [],
   "source": [
    "url = \"https://www.legalandgeneral.com/retirement/our-products/\""
   ]
  },
  {
   "cell_type": "code",
   "execution_count": 35,
   "metadata": {},
   "outputs": [],
   "source": [
    "res = requests.get(url)"
   ]
  },
  {
   "cell_type": "code",
   "execution_count": 37,
   "metadata": {},
   "outputs": [],
   "source": [
    "from bs4 import BeautifulSoup\n",
    "\n",
    "soup = BeautifulSoup(res.text, \"html.parser\")\n",
    "text = soup.get_text()"
   ]
  },
  {
   "cell_type": "code",
   "execution_count": 38,
   "metadata": {},
   "outputs": [
    {
     "data": {
      "text/plain": [
       "\"\\n\\nOur Retirement Products | Legal & General\\n\\n\\n\\n\\n\\nPersonal Adviser Employer Institutional Menu Investments  Pensions & Retirement  Insurance  Existing customers  Search Log inRegisterContact usSearch Search term  Search Log inRegisterContact us Back Investments  Stocks and Shares ISA  Our services  ISA allowance  ISAs explained  Understanding risk  Resources and articles  A Little Bit Richer podcast  Cash ISA vs Stocks and Shares ISA  What’s the best ISA for me?  Investing for beginners  Types of ISA  How to protect savings from inflation  Transferring your ISA  Contact us  Back Pensions & Retirement  Saving  Back Saving  Saving for retirement  Personal Pension  Pension transfers and consolidation  Tax benefits  Understanding risk  Workplace Pensions  Pensions explained  Planning tools and calculators  Planning & At Retirement  Back Planning & At Retirement  Planning for retirement  Retirement advice service  Deciding how to use your pension  Ways to take your pension  Pension Annuity  Pension Drawdown  Fixed Term Retirement Plan  Cash-Out Retirement Plan  Later life  Back Later life  Later Life Mortgages  Lifetime Mortgages  Retirement Interest Only Mortgage  Which later life mortgage?  How equity release works  Later life care  Lifetime Care Plan  Calculators  Back Calculators  Equity Release Calculator  Retirement Interest Only Mortgage Calculator  Retirement Income Calculator  Drawdown Calculator  Care Cost Calculator  Salary Sacrifice Calculator  Back Insurance  Life Insurance  Additional benefits  Information you need to know  Life Insurance FAQs  Life insurance calculator  Articles and guides  Income Protection  Business Protection  Decreasing Life Insurance  Additional benefits  Information you need to know  Decreasing Life Insurance FAQs  Critical Illness Cover  Additional benefits  Information you need to know  What critical illnesses are covered?  Critical Illness Cover FAQs  Over 50 Life Insurance  Over 50 FAQs  Articles and guides  Funeral Benefit Option  Wellbeing Support  How to make a claim  Claims experiences  Back Existing customers  Pensions & Retirement support  Log in to see my pensions  Retrieve my quote  Pension consolidation dashboard  Lifetime mortgage drawdown  Defined Benefit customer lounge  Investment support  Prices and reports  Fund centre  Some investments have closed  Insurance support  Manage your policy  Put your policy in Trust  How do I make a claim?  Making a complaint  Stay ahead of scams  Bereavement support  My offers Search Search term 1. Retirement 2. Retirement products Retirement productsOur range of retirement income and later life mortgage products could help you achieve a more colourful retirementRetirement IncomeLater life mortgages  Select a filter  Show all  Saving in a pension  Retirement income  Later life mortgages  Saving in a pension\\n Saving for a comfortable retirement Personal pensionNot eligible for a Workplace pension or want to supplement your pensions savings?\\nStart from £100. Simple range of five funds. Tax efficient. Transfer an existing pensionPersonal pension Save with a workplace pension Workplace pensionAlready in a workplace pension or received an enrolment notification?\\nLearn how to make the most of your workplace pension and the benefits of saving now.Workplace pension Retirement income\\n Guaranteed income for life Pension AnnuityUse your pension pot to buy a guaranteed, regular income for life.\\nPeace of mind knowing exactly how much you’ll receive and when.\\nTake up to 25% of your pension pot as a tax-free lump sum.Pension Annuity Guaranteed income for a set period Cash-Out Retirement PlanUse your pension pot to buy a regular income for up to 25 years\\nCould be a tax-efficient way to take cash or use as a bridge to a future date when another source of income starts.\\nTake up to 25% of your pension pot as a tax-free lump sum.Cash-Out Retirement Plan Guaranteed income for a set period with a lump sum at the end Fixed Term Retirement PlanUse your pension pot to buy a regular income for up to 25 years, with a lump sum at the end.\\nSecurity of regular income for a set period, and various options on what to do with your lump sum once the plan has matured.\\nTake up to 25% of your pension pot as a tax-free lump sum.Fixed Term Retirement Plan Flexible income Personal Pension DrawdownTake up to 25% of your pension pot as a tax-free lump sum.\\nInvest the rest with the flexibility to access the remainder of your pot when you want.Personal Pension Drawdown Advice on using your pension Retirement Advice ServicePension planning advice from our team of expert financial advisers.\\nOur advisers are regulated by the Financial Conduct Authority (FCA) to give pension advice on an impartial basis. That means they won’t just include our products in the recommendation they give you – if there’s a better option available, they’ll let you know.Retirement Advice Service Later life mortgages\\n A loan secured against your home where you don’t have to make monthly payments Lifetime MortgagesA form of equity release. The amount borrowed plus interest doesn’t need to be repaid until you die or move into long-term care.\\nYou can use the money to repay an existing mortgage or spend it on something else.\\nThe amount you can borrow is determined by your age and property value and there’s no affordability assessment. You have the option to pay all, some or none of the interestLifetime Mortgages A loan secured against your home where you don’t have to make monthly payments Payment Term Lifetime MortgageA form of equity release for ages 50 and over and in employment. The amount borrowed plus any unpaid interest doesn't need to be repaid until you die or move into long-term care.\\nYou can use the money to repay an existing mortgage or spend it on something else.\\nThe amount you can borrow is determined by your age, property value and affordability assessment. You have to pay all of the monthly interest for an agreed Payment Term which cannot exceed your retirement age or your 75th birthday. As a last resort, your home may be repossessed if you do not keep up payments.Payment Term Lifetime Mortgage A loan secured against your home where you make monthly payments Retirement Interest Only MortgageA type of residential mortgage, the amount borrowed doesn’t need to be repaid until you die or move into long-term care.\\nYou can use the money to repay an existing mortgage or spend it on something else.\\nYou can borrow up to 60% of the value of your home and need to be able to afford the monthly interest payments. As a last resort, your home may be repossessed if you do not keep up payments.Retirement Interest Only Mortgage Next steps Always seek guidance first before choosing which product is right for you. Pension Wise from MoneyHelper  Moneyhelper Pension Guide  Find a regulated adviser  Our complete retirement service\\nWherever you are on your retirement journey, we can help Call us about using your pension pot Our UK colleagues can answer your questions in office hours, or can help you apply for a quote.\\n0808 189 9551\\nLines are open Monday to Friday9.00am to 5.30pmWe may record and monitor calls. Contact us  Contact us about equity release To discuss our Lifetime Mortgages, a loan secured against your home, and if they're right for you.\\xa0\\nCall us on:\\n0800 048 2446\\nMonday to Friday 9am to 6pm, Saturday 9am to 1pm.\\xa0\\nWe may record and monitor calls Existing Customers If you’re an existing customer looking for some help find out who can best help you with your query. Existing customers     Cookie policy  Accessibility  Legal and regulatory information  Privacy policy  Security information  Sitemap  All our websites  About us  Making a complaint  Group website  Modern slavery statement  Careers © Legal & General Group plc 2024\\n\\n\""
      ]
     },
     "execution_count": 38,
     "metadata": {},
     "output_type": "execute_result"
    }
   ],
   "source": [
    "text"
   ]
  },
  {
   "cell_type": "code",
   "execution_count": 43,
   "metadata": {},
   "outputs": [],
   "source": [
    "lines = text.split('\\n')\n",
    "non_empty_lines = [line for line in lines if line.strip()]\n",
    "cleaned_text = '\\n'.join(non_empty_lines)"
   ]
  },
  {
   "cell_type": "code",
   "execution_count": 44,
   "metadata": {},
   "outputs": [
    {
     "data": {
      "text/plain": [
       "\"Our Retirement Products | Legal & General\\nPersonal Adviser Employer Institutional Menu Investments  Pensions & Retirement  Insurance  Existing customers  Search Log inRegisterContact usSearch Search term  Search Log inRegisterContact us Back Investments  Stocks and Shares ISA  Our services  ISA allowance  ISAs explained  Understanding risk  Resources and articles  A Little Bit Richer podcast  Cash ISA vs Stocks and Shares ISA  What’s the best ISA for me?  Investing for beginners  Types of ISA  How to protect savings from inflation  Transferring your ISA  Contact us  Back Pensions & Retirement  Saving  Back Saving  Saving for retirement  Personal Pension  Pension transfers and consolidation  Tax benefits  Understanding risk  Workplace Pensions  Pensions explained  Planning tools and calculators  Planning & At Retirement  Back Planning & At Retirement  Planning for retirement  Retirement advice service  Deciding how to use your pension  Ways to take your pension  Pension Annuity  Pension Drawdown  Fixed Term Retirement Plan  Cash-Out Retirement Plan  Later life  Back Later life  Later Life Mortgages  Lifetime Mortgages  Retirement Interest Only Mortgage  Which later life mortgage?  How equity release works  Later life care  Lifetime Care Plan  Calculators  Back Calculators  Equity Release Calculator  Retirement Interest Only Mortgage Calculator  Retirement Income Calculator  Drawdown Calculator  Care Cost Calculator  Salary Sacrifice Calculator  Back Insurance  Life Insurance  Additional benefits  Information you need to know  Life Insurance FAQs  Life insurance calculator  Articles and guides  Income Protection  Business Protection  Decreasing Life Insurance  Additional benefits  Information you need to know  Decreasing Life Insurance FAQs  Critical Illness Cover  Additional benefits  Information you need to know  What critical illnesses are covered?  Critical Illness Cover FAQs  Over 50 Life Insurance  Over 50 FAQs  Articles and guides  Funeral Benefit Option  Wellbeing Support  How to make a claim  Claims experiences  Back Existing customers  Pensions & Retirement support  Log in to see my pensions  Retrieve my quote  Pension consolidation dashboard  Lifetime mortgage drawdown  Defined Benefit customer lounge  Investment support  Prices and reports  Fund centre  Some investments have closed  Insurance support  Manage your policy  Put your policy in Trust  How do I make a claim?  Making a complaint  Stay ahead of scams  Bereavement support  My offers Search Search term 1. Retirement 2. Retirement products Retirement productsOur range of retirement income and later life mortgage products could help you achieve a more colourful retirementRetirement IncomeLater life mortgages  Select a filter  Show all  Saving in a pension  Retirement income  Later life mortgages  Saving in a pension\\n Saving for a comfortable retirement Personal pensionNot eligible for a Workplace pension or want to supplement your pensions savings?\\nStart from £100. Simple range of five funds. Tax efficient. Transfer an existing pensionPersonal pension Save with a workplace pension Workplace pensionAlready in a workplace pension or received an enrolment notification?\\nLearn how to make the most of your workplace pension and the benefits of saving now.Workplace pension Retirement income\\n Guaranteed income for life Pension AnnuityUse your pension pot to buy a guaranteed, regular income for life.\\nPeace of mind knowing exactly how much you’ll receive and when.\\nTake up to 25% of your pension pot as a tax-free lump sum.Pension Annuity Guaranteed income for a set period Cash-Out Retirement PlanUse your pension pot to buy a regular income for up to 25 years\\nCould be a tax-efficient way to take cash or use as a bridge to a future date when another source of income starts.\\nTake up to 25% of your pension pot as a tax-free lump sum.Cash-Out Retirement Plan Guaranteed income for a set period with a lump sum at the end Fixed Term Retirement PlanUse your pension pot to buy a regular income for up to 25 years, with a lump sum at the end.\\nSecurity of regular income for a set period, and various options on what to do with your lump sum once the plan has matured.\\nTake up to 25% of your pension pot as a tax-free lump sum.Fixed Term Retirement Plan Flexible income Personal Pension DrawdownTake up to 25% of your pension pot as a tax-free lump sum.\\nInvest the rest with the flexibility to access the remainder of your pot when you want.Personal Pension Drawdown Advice on using your pension Retirement Advice ServicePension planning advice from our team of expert financial advisers.\\nOur advisers are regulated by the Financial Conduct Authority (FCA) to give pension advice on an impartial basis. That means they won’t just include our products in the recommendation they give you – if there’s a better option available, they’ll let you know.Retirement Advice Service Later life mortgages\\n A loan secured against your home where you don’t have to make monthly payments Lifetime MortgagesA form of equity release. The amount borrowed plus interest doesn’t need to be repaid until you die or move into long-term care.\\nYou can use the money to repay an existing mortgage or spend it on something else.\\nThe amount you can borrow is determined by your age and property value and there’s no affordability assessment. You have the option to pay all, some or none of the interestLifetime Mortgages A loan secured against your home where you don’t have to make monthly payments Payment Term Lifetime MortgageA form of equity release for ages 50 and over and in employment. The amount borrowed plus any unpaid interest doesn't need to be repaid until you die or move into long-term care.\\nYou can use the money to repay an existing mortgage or spend it on something else.\\nThe amount you can borrow is determined by your age, property value and affordability assessment. You have to pay all of the monthly interest for an agreed Payment Term which cannot exceed your retirement age or your 75th birthday. As a last resort, your home may be repossessed if you do not keep up payments.Payment Term Lifetime Mortgage A loan secured against your home where you make monthly payments Retirement Interest Only MortgageA type of residential mortgage, the amount borrowed doesn’t need to be repaid until you die or move into long-term care.\\nYou can use the money to repay an existing mortgage or spend it on something else.\\nYou can borrow up to 60% of the value of your home and need to be able to afford the monthly interest payments. As a last resort, your home may be repossessed if you do not keep up payments.Retirement Interest Only Mortgage Next steps Always seek guidance first before choosing which product is right for you. Pension Wise from MoneyHelper  Moneyhelper Pension Guide  Find a regulated adviser  Our complete retirement service\\nWherever you are on your retirement journey, we can help Call us about using your pension pot Our UK colleagues can answer your questions in office hours, or can help you apply for a quote.\\n0808 189 9551\\nLines are open Monday to Friday9.00am to 5.30pmWe may record and monitor calls. Contact us  Contact us about equity release To discuss our Lifetime Mortgages, a loan secured against your home, and if they're right for you.\\xa0\\nCall us on:\\n0800 048 2446\\nMonday to Friday 9am to 6pm, Saturday 9am to 1pm.\\xa0\\nWe may record and monitor calls Existing Customers If you’re an existing customer looking for some help find out who can best help you with your query. Existing customers     Cookie policy  Accessibility  Legal and regulatory information  Privacy policy  Security information  Sitemap  All our websites  About us  Making a complaint  Group website  Modern slavery statement  Careers © Legal & General Group plc 2024\""
      ]
     },
     "execution_count": 44,
     "metadata": {},
     "output_type": "execute_result"
    }
   ],
   "source": [
    "cleaned_text"
   ]
  },
  {
   "cell_type": "code",
   "execution_count": 45,
   "metadata": {},
   "outputs": [],
   "source": [
    "with open(\"insurance_products.txt\", \"w\") as f:\n",
    "    f.write(cleaned_text)"
   ]
  },
  {
   "cell_type": "code",
   "execution_count": 6,
   "metadata": {},
   "outputs": [],
   "source": [
    "# loader = TextLoader('insurance_products.txt')\n",
    "\n",
    "loader = TextLoader(\"info\")"
   ]
  },
  {
   "cell_type": "code",
   "execution_count": 7,
   "metadata": {},
   "outputs": [
    {
     "ename": "RuntimeError",
     "evalue": "Error loading info",
     "output_type": "error",
     "traceback": [
      "\u001b[1;31m---------------------------------------------------------------------------\u001b[0m",
      "\u001b[1;31mPermissionError\u001b[0m                           Traceback (most recent call last)",
      "File \u001b[1;32mc:\\Users\\santo\\anaconda3\\envs\\llmapp\\lib\\site-packages\\langchain\\document_loaders\\text.py:40\u001b[0m, in \u001b[0;36mTextLoader.load\u001b[1;34m(self)\u001b[0m\n\u001b[0;32m     39\u001b[0m \u001b[38;5;28;01mtry\u001b[39;00m:\n\u001b[1;32m---> 40\u001b[0m     \u001b[38;5;28;01mwith\u001b[39;00m \u001b[38;5;28;43mopen\u001b[39;49m\u001b[43m(\u001b[49m\u001b[38;5;28;43mself\u001b[39;49m\u001b[38;5;241;43m.\u001b[39;49m\u001b[43mfile_path\u001b[49m\u001b[43m,\u001b[49m\u001b[43m \u001b[49m\u001b[43mencoding\u001b[49m\u001b[38;5;241;43m=\u001b[39;49m\u001b[38;5;28;43mself\u001b[39;49m\u001b[38;5;241;43m.\u001b[39;49m\u001b[43mencoding\u001b[49m\u001b[43m)\u001b[49m \u001b[38;5;28;01mas\u001b[39;00m f:\n\u001b[0;32m     41\u001b[0m         text \u001b[38;5;241m=\u001b[39m f\u001b[38;5;241m.\u001b[39mread()\n",
      "\u001b[1;31mPermissionError\u001b[0m: [Errno 13] Permission denied: 'info'",
      "\nThe above exception was the direct cause of the following exception:\n",
      "\u001b[1;31mRuntimeError\u001b[0m                              Traceback (most recent call last)",
      "Cell \u001b[1;32mIn[7], line 1\u001b[0m\n\u001b[1;32m----> 1\u001b[0m documents \u001b[38;5;241m=\u001b[39m \u001b[43mloader\u001b[49m\u001b[38;5;241;43m.\u001b[39;49m\u001b[43mload\u001b[49m\u001b[43m(\u001b[49m\u001b[43m)\u001b[49m\n",
      "File \u001b[1;32mc:\\Users\\santo\\anaconda3\\envs\\llmapp\\lib\\site-packages\\langchain\\document_loaders\\text.py:56\u001b[0m, in \u001b[0;36mTextLoader.load\u001b[1;34m(self)\u001b[0m\n\u001b[0;32m     54\u001b[0m         \u001b[38;5;28;01mraise\u001b[39;00m \u001b[38;5;167;01mRuntimeError\u001b[39;00m(\u001b[38;5;124mf\u001b[39m\u001b[38;5;124m\"\u001b[39m\u001b[38;5;124mError loading \u001b[39m\u001b[38;5;132;01m{\u001b[39;00m\u001b[38;5;28mself\u001b[39m\u001b[38;5;241m.\u001b[39mfile_path\u001b[38;5;132;01m}\u001b[39;00m\u001b[38;5;124m\"\u001b[39m) \u001b[38;5;28;01mfrom\u001b[39;00m \u001b[38;5;21;01me\u001b[39;00m\n\u001b[0;32m     55\u001b[0m \u001b[38;5;28;01mexcept\u001b[39;00m \u001b[38;5;167;01mException\u001b[39;00m \u001b[38;5;28;01mas\u001b[39;00m e:\n\u001b[1;32m---> 56\u001b[0m     \u001b[38;5;28;01mraise\u001b[39;00m \u001b[38;5;167;01mRuntimeError\u001b[39;00m(\u001b[38;5;124mf\u001b[39m\u001b[38;5;124m\"\u001b[39m\u001b[38;5;124mError loading \u001b[39m\u001b[38;5;132;01m{\u001b[39;00m\u001b[38;5;28mself\u001b[39m\u001b[38;5;241m.\u001b[39mfile_path\u001b[38;5;132;01m}\u001b[39;00m\u001b[38;5;124m\"\u001b[39m) \u001b[38;5;28;01mfrom\u001b[39;00m \u001b[38;5;21;01me\u001b[39;00m\n\u001b[0;32m     58\u001b[0m metadata \u001b[38;5;241m=\u001b[39m {\u001b[38;5;124m\"\u001b[39m\u001b[38;5;124msource\u001b[39m\u001b[38;5;124m\"\u001b[39m: \u001b[38;5;28mself\u001b[39m\u001b[38;5;241m.\u001b[39mfile_path}\n\u001b[0;32m     59\u001b[0m \u001b[38;5;28;01mreturn\u001b[39;00m [Document(page_content\u001b[38;5;241m=\u001b[39mtext, metadata\u001b[38;5;241m=\u001b[39mmetadata)]\n",
      "\u001b[1;31mRuntimeError\u001b[0m: Error loading info"
     ]
    }
   ],
   "source": [
    "documents = loader.load()"
   ]
  },
  {
   "cell_type": "markdown",
   "metadata": {},
   "source": [
    "### Chunkings ###"
   ]
  },
  {
   "cell_type": "code",
   "execution_count": 49,
   "metadata": {},
   "outputs": [],
   "source": [
    "documents_splitter = RecursiveCharacterTextSplitter.from_language(language = Language.PYTHON,\n",
    "                                                             chunk_size = 2000,\n",
    "                                                             chunk_overlap = 200)"
   ]
  },
  {
   "cell_type": "code",
   "execution_count": 50,
   "metadata": {},
   "outputs": [],
   "source": [
    "texts = documents_splitter.split_documents(documents)"
   ]
  },
  {
   "cell_type": "code",
   "execution_count": 52,
   "metadata": {},
   "outputs": [
    {
     "data": {
      "text/plain": [
       "[Document(page_content='Our Retirement Products | Legal & General', metadata={'source': 'insurance_products.txt'}),\n",
       " Document(page_content='Personal Adviser Employer Institutional Menu Investments  Pensions & Retirement  Insurance  Existing customers  Search Log inRegisterContact usSearch Search term  Search Log inRegisterContact us Back Investments  Stocks and Shares ISA  Our services  ISA allowance  ISAs explained  Understanding risk  Resources and articles  A Little Bit Richer podcast  Cash ISA vs Stocks and Shares ISA  What’s the best ISA for me?  Investing for beginners  Types of ISA  How to protect savings from inflation  Transferring your ISA  Contact us  Back Pensions & Retirement  Saving  Back Saving  Saving for retirement  Personal Pension  Pension transfers and consolidation  Tax benefits  Understanding risk  Workplace Pensions  Pensions explained  Planning tools and calculators  Planning & At Retirement  Back Planning & At Retirement  Planning for retirement  Retirement advice service  Deciding how to use your pension  Ways to take your pension  Pension Annuity  Pension Drawdown  Fixed Term Retirement Plan  Cash-Out Retirement Plan  Later life  Back Later life  Later Life Mortgages  Lifetime Mortgages  Retirement Interest Only Mortgage  Which later life mortgage?  How equity release works  Later life care  Lifetime Care Plan  Calculators  Back Calculators  Equity Release Calculator  Retirement Interest Only Mortgage Calculator  Retirement Income Calculator  Drawdown Calculator  Care Cost Calculator  Salary Sacrifice Calculator  Back Insurance  Life Insurance  Additional benefits  Information you need to know  Life Insurance FAQs  Life insurance calculator  Articles and guides  Income Protection  Business Protection  Decreasing Life Insurance  Additional benefits  Information you need to know  Decreasing Life Insurance FAQs  Critical Illness Cover  Additional benefits  Information you need to know  What critical illnesses are covered?  Critical Illness Cover FAQs  Over 50 Life Insurance  Over 50 FAQs  Articles and guides  Funeral Benefit Option  Wellbeing Support  How to make a claim  Claims', metadata={'source': 'insurance_products.txt'}),\n",
       " Document(page_content='What critical illnesses are covered?  Critical Illness Cover FAQs  Over 50 Life Insurance  Over 50 FAQs  Articles and guides  Funeral Benefit Option  Wellbeing Support  How to make a claim  Claims experiences  Back Existing customers  Pensions & Retirement support  Log in to see my pensions  Retrieve my quote  Pension consolidation dashboard  Lifetime mortgage drawdown  Defined Benefit customer lounge  Investment support  Prices and reports  Fund centre  Some investments have closed  Insurance support  Manage your policy  Put your policy in Trust  How do I make a claim?  Making a complaint  Stay ahead of scams  Bereavement support  My offers Search Search term 1. Retirement 2. Retirement products Retirement productsOur range of retirement income and later life mortgage products could help you achieve a more colourful retirementRetirement IncomeLater life mortgages  Select a filter  Show all  Saving in a pension  Retirement income  Later life mortgages  Saving in a pension', metadata={'source': 'insurance_products.txt'}),\n",
       " Document(page_content='Saving for a comfortable retirement Personal pensionNot eligible for a Workplace pension or want to supplement your pensions savings?\\nStart from £100. Simple range of five funds. Tax efficient. Transfer an existing pensionPersonal pension Save with a workplace pension Workplace pensionAlready in a workplace pension or received an enrolment notification?\\nLearn how to make the most of your workplace pension and the benefits of saving now.Workplace pension Retirement income\\n Guaranteed income for life Pension AnnuityUse your pension pot to buy a guaranteed, regular income for life.\\nPeace of mind knowing exactly how much you’ll receive and when.\\nTake up to 25% of your pension pot as a tax-free lump sum.Pension Annuity Guaranteed income for a set period Cash-Out Retirement PlanUse your pension pot to buy a regular income for up to 25 years\\nCould be a tax-efficient way to take cash or use as a bridge to a future date when another source of income starts.\\nTake up to 25% of your pension pot as a tax-free lump sum.Cash-Out Retirement Plan Guaranteed income for a set period with a lump sum at the end Fixed Term Retirement PlanUse your pension pot to buy a regular income for up to 25 years, with a lump sum at the end.\\nSecurity of regular income for a set period, and various options on what to do with your lump sum once the plan has matured.\\nTake up to 25% of your pension pot as a tax-free lump sum.Fixed Term Retirement Plan Flexible income Personal Pension DrawdownTake up to 25% of your pension pot as a tax-free lump sum.\\nInvest the rest with the flexibility to access the remainder of your pot when you want.Personal Pension Drawdown Advice on using your pension Retirement Advice ServicePension planning advice from our team of expert financial advisers.', metadata={'source': 'insurance_products.txt'}),\n",
       " Document(page_content=\"Our advisers are regulated by the Financial Conduct Authority (FCA) to give pension advice on an impartial basis. That means they won’t just include our products in the recommendation they give you – if there’s a better option available, they’ll let you know.Retirement Advice Service Later life mortgages\\n A loan secured against your home where you don’t have to make monthly payments Lifetime MortgagesA form of equity release. The amount borrowed plus interest doesn’t need to be repaid until you die or move into long-term care.\\nYou can use the money to repay an existing mortgage or spend it on something else.\\nThe amount you can borrow is determined by your age and property value and there’s no affordability assessment. You have the option to pay all, some or none of the interestLifetime Mortgages A loan secured against your home where you don’t have to make monthly payments Payment Term Lifetime MortgageA form of equity release for ages 50 and over and in employment. The amount borrowed plus any unpaid interest doesn't need to be repaid until you die or move into long-term care.\\nYou can use the money to repay an existing mortgage or spend it on something else.\\nThe amount you can borrow is determined by your age, property value and affordability assessment. You have to pay all of the monthly interest for an agreed Payment Term which cannot exceed your retirement age or your 75th birthday. As a last resort, your home may be repossessed if you do not keep up payments.Payment Term Lifetime Mortgage A loan secured against your home where you make monthly payments Retirement Interest Only MortgageA type of residential mortgage, the amount borrowed doesn’t need to be repaid until you die or move into long-term care.\\nYou can use the money to repay an existing mortgage or spend it on something else.\", metadata={'source': 'insurance_products.txt'}),\n",
       " Document(page_content=\"You can use the money to repay an existing mortgage or spend it on something else.\\nYou can borrow up to 60% of the value of your home and need to be able to afford the monthly interest payments. As a last resort, your home may be repossessed if you do not keep up payments.Retirement Interest Only Mortgage Next steps Always seek guidance first before choosing which product is right for you. Pension Wise from MoneyHelper  Moneyhelper Pension Guide  Find a regulated adviser  Our complete retirement service\\nWherever you are on your retirement journey, we can help Call us about using your pension pot Our UK colleagues can answer your questions in office hours, or can help you apply for a quote.\\n0808 189 9551\\nLines are open Monday to Friday9.00am to 5.30pmWe may record and monitor calls. Contact us  Contact us about equity release To discuss our Lifetime Mortgages, a loan secured against your home, and if they're right for you.\\xa0\\nCall us on:\\n0800 048 2446\\nMonday to Friday 9am to 6pm, Saturday 9am to 1pm.\\xa0\\nWe may record and monitor calls Existing Customers If you’re an existing customer looking for some help find out who can best help you with your query. Existing customers     Cookie policy  Accessibility  Legal and regulatory information  Privacy policy  Security information  Sitemap  All our websites  About us  Making a complaint  Group website  Modern slavery statement  Careers © Legal & General Group plc 2024\", metadata={'source': 'insurance_products.txt'})]"
      ]
     },
     "execution_count": 52,
     "metadata": {},
     "output_type": "execute_result"
    }
   ],
   "source": [
    "texts"
   ]
  },
  {
   "cell_type": "code",
   "execution_count": 51,
   "metadata": {},
   "outputs": [
    {
     "data": {
      "text/plain": [
       "6"
      ]
     },
     "execution_count": 51,
     "metadata": {},
     "output_type": "execute_result"
    }
   ],
   "source": [
    "len(texts)"
   ]
  },
  {
   "cell_type": "markdown",
   "metadata": {},
   "source": [
    "### Embedding Model"
   ]
  },
  {
   "cell_type": "code",
   "execution_count": 53,
   "metadata": {},
   "outputs": [],
   "source": [
    "import os\n",
    "os.environ[\"OPENAI_API_KEY\"] = \"*****************************\""
   ]
  },
  {
   "cell_type": "code",
   "execution_count": 54,
   "metadata": {},
   "outputs": [],
   "source": [
    "embeddings=OpenAIEmbeddings(disallowed_special=())"
   ]
  },
  {
   "cell_type": "markdown",
   "metadata": {},
   "source": [
    "### Knowledge Base (vector DB) ###"
   ]
  },
  {
   "cell_type": "code",
   "execution_count": 55,
   "metadata": {},
   "outputs": [],
   "source": [
    "vectordb = Chroma.from_documents(texts, embedding=embeddings, persist_directory='./data')\n",
    "vectordb.persist()"
   ]
  },
  {
   "cell_type": "markdown",
   "metadata": {},
   "source": [
    "#### LLM Wrapper"
   ]
  },
  {
   "cell_type": "code",
   "execution_count": 56,
   "metadata": {},
   "outputs": [],
   "source": [
    "llm = ChatOpenAI()"
   ]
  },
  {
   "cell_type": "code",
   "execution_count": 57,
   "metadata": {},
   "outputs": [],
   "source": [
    "memory = ConversationSummaryMemory(llm=llm, memory_key = \"chat_history\", return_messages=True)"
   ]
  },
  {
   "cell_type": "code",
   "execution_count": 58,
   "metadata": {},
   "outputs": [],
   "source": [
    "qa = ConversationalRetrievalChain.from_llm(llm, retriever=vectordb.as_retriever(search_type=\"mmr\", search_kwargs={\"k\":3}), memory=memory)"
   ]
  },
  {
   "cell_type": "markdown",
   "metadata": {},
   "source": [
    "Q & A"
   ]
  },
  {
   "cell_type": "code",
   "execution_count": 59,
   "metadata": {},
   "outputs": [],
   "source": [
    "question = \"which are the retirement plans available?\""
   ]
  },
  {
   "cell_type": "code",
   "execution_count": 61,
   "metadata": {},
   "outputs": [],
   "source": [
    "question2 = \"what is the capital of India\""
   ]
  },
  {
   "cell_type": "code",
   "execution_count": 62,
   "metadata": {},
   "outputs": [
    {
     "name": "stderr",
     "output_type": "stream",
     "text": [
      "Number of requested results 20 is greater than number of elements in index 6, updating n_results = 6\n"
     ]
    },
    {
     "name": "stdout",
     "output_type": "stream",
     "text": [
      "I don't know the answer to that question.\n"
     ]
    }
   ],
   "source": [
    "result = qa(question2)\n",
    "print(result['answer'])"
   ]
  },
  {
   "cell_type": "code",
   "execution_count": null,
   "metadata": {},
   "outputs": [],
   "source": []
  },
  {
   "cell_type": "code",
   "execution_count": null,
   "metadata": {},
   "outputs": [],
   "source": []
  },
  {
   "cell_type": "code",
   "execution_count": null,
   "metadata": {},
   "outputs": [],
   "source": []
  }
 ],
 "metadata": {
  "kernelspec": {
   "display_name": "llmapp",
   "language": "python",
   "name": "python3"
  },
  "language_info": {
   "codemirror_mode": {
    "name": "ipython",
    "version": 3
   },
   "file_extension": ".py",
   "mimetype": "text/x-python",
   "name": "python",
   "nbconvert_exporter": "python",
   "pygments_lexer": "ipython3",
   "version": "3.8.19"
  }
 },
 "nbformat": 4,
 "nbformat_minor": 2
}
